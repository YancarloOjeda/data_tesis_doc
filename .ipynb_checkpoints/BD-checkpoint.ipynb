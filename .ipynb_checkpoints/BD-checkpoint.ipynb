{
 "cells": [
  {
   "cell_type": "markdown",
   "metadata": {},
   "source": [
    "# Este código sirve para las BD con los archivos agrupados \n",
    "\n",
    "Lee los archivos agrupados en carpetas hechas por el código \"extraer_datos.ipynb\" "
   ]
  },
  {
   "cell_type": "code",
   "execution_count": 44,
   "metadata": {},
   "outputs": [],
   "source": [
    "import pandas as pd\n",
    "import numpy as np\n",
    "from scipy import stats\n",
    "import os\n",
    "import re\n",
    "import matplotlib.pyplot as plt"
   ]
  },
  {
   "cell_type": "code",
   "execution_count": 83,
   "metadata": {},
   "outputs": [
    {
     "name": "stdout",
     "output_type": "stream",
     "text": [
      "['A', 'A(1)x', 'A(2)x', 'A(4)x', 'Ax', 'x']\n",
      "/home/yan/datos_redes_tesis_doctorado/Con ITI/2-2(2)-2(1)-1 parcialmente/datos_filtrados_entrenamiento/A\n",
      "['red-1', 'red-2', 'red-3', 'red-4', 'red-5', 'red-6', 'red-7', 'red-8', 'red-9', 'red-10']\n",
      "/home/yan/datos_redes_tesis_doctorado/Con ITI/2-2(2)-2(1)-1 parcialmente/datos_filtrados_entrenamiento/A(1)x\n",
      "['red-1', 'red-2', 'red-3', 'red-4', 'red-5', 'red-6', 'red-7', 'red-8', 'red-9', 'red-10']\n",
      "/home/yan/datos_redes_tesis_doctorado/Con ITI/2-2(2)-2(1)-1 parcialmente/datos_filtrados_entrenamiento/A(2)x\n",
      "['red-1', 'red-2', 'red-3', 'red-4', 'red-5', 'red-6', 'red-7', 'red-8', 'red-9', 'red-10']\n",
      "/home/yan/datos_redes_tesis_doctorado/Con ITI/2-2(2)-2(1)-1 parcialmente/datos_filtrados_entrenamiento/A(4)x\n",
      "['red-1', 'red-2', 'red-3', 'red-4', 'red-5', 'red-6', 'red-7', 'red-8', 'red-9', 'red-10']\n",
      "/home/yan/datos_redes_tesis_doctorado/Con ITI/2-2(2)-2(1)-1 parcialmente/datos_filtrados_entrenamiento/Ax\n",
      "['red-1', 'red-2', 'red-3', 'red-4', 'red-5', 'red-6', 'red-7', 'red-8', 'red-9', 'red-10']\n",
      "/home/yan/datos_redes_tesis_doctorado/Con ITI/2-2(2)-2(1)-1 parcialmente/datos_filtrados_entrenamiento/x\n",
      "['red-1', 'red-2', 'red-3', 'red-4', 'red-5', 'red-6', 'red-7', 'red-8', 'red-9', 'red-10']\n"
     ]
    }
   ],
   "source": [
    "ubicacion_original = \"/home/yan/datos_redes_tesis_doctorado/Con ITI/2-2(2)-2(1)-1 parcialmente/datos_filtrados_entrenamiento/\"\n",
    "archivo_promedios = ubicacion_original + 'PROMEDIOS'\n",
    "archivo_promedios_total = ubicacion_original + 'PROMEDIOS_total'\n",
    "archivo_error = ubicacion_original + 'ERROR'\n",
    "matriz = np.zeros((10,199))\n",
    "matriz_total = np.zeros((6,199))\n",
    "i = 0\n",
    "j = 0\n",
    "\n",
    "\n",
    "def sorted_aphanumeric(contenido):\n",
    "    convert = lambda text: int(text) if text.isdigit() else text.lower()\n",
    "    alphanum_key = lambda key: [ convert(c) for c in re.split('([0-9]+)', key) ] \n",
    "    return sorted(contenido, key=alphanum_key)\n",
    "\n",
    "\n",
    "carpetas = sorted_aphanumeric(os.listdir(ubicacion_original))\n",
    "print(carpetas)\n",
    "\n",
    "for carpeta in carpetas:\n",
    "    ruta_carpetas = ubicacion_original + carpeta\n",
    "    print(ruta_carpetas)\n",
    "    \n",
    "    archivos = sorted_aphanumeric(os.listdir(ruta_carpetas))\n",
    "    print(archivos)\n",
    "    \n",
    "    for archivo in archivos:\n",
    "        ruta_archivo = ruta_carpetas + '/' + archivo\n",
    "        datos = np.loadtxt(ruta_archivo)\n",
    "        #datos = pd.read_csv(ruta_archivo, sep = ': ', engine='python', keep_default_na=False,\n",
    "         #       na_values=[' '])\n",
    "        \n",
    "        matriz[i][:] = datos\n",
    "        i += 1\n",
    "        \n",
    "    \n",
    "    vector_promedio = np.mean(matriz, axis=0)\n",
    "    vector_error = stats.sem(matriz, axis=0, ddof=0)\n",
    "        \n",
    "    np.savetxt(archivo_promedios + '_' + carpeta + '.txt', vector_promedio, fmt=\"%s\")\n",
    "    np.savetxt(archivo_error + '_' + carpeta + '.txt', vector_error, fmt=\"%s\")\n",
    "    i = 0\n",
    "    \n",
    "    matriz_total[j][:] = vector_promedio\n",
    "    j +=1\n",
    "\n",
    "matriz_total.T\n",
    "np.savetxt(archivo_promedios_total + '_' + '.txt', matriz_total.T, fmt=\"%s\")        "
   ]
  },
  {
   "cell_type": "code",
   "execution_count": 69,
   "metadata": {},
   "outputs": [
    {
     "name": "stdout",
     "output_type": "stream",
     "text": [
      "[[0.00635375 0.00658653 0.00635164 ... 0.85775563 0.86889825 0.95306173]\n",
      " [0.00620934 0.0065838  0.00650383 ... 0.84217995 0.80600669 0.79337041]\n",
      " [0.00634918 0.00630732 0.00649634 ... 0.8258297  0.87869838 0.90299162]\n",
      " ...\n",
      " [0.         0.         0.         ... 0.         0.         0.        ]\n",
      " [0.         0.         0.         ... 0.         0.         0.        ]\n",
      " [0.         0.         0.         ... 0.         0.         0.        ]]\n"
     ]
    }
   ],
   "source": [
    "print(matriz_total)"
   ]
  },
  {
   "cell_type": "code",
   "execution_count": 53,
   "metadata": {},
   "outputs": [
    {
     "name": "stdout",
     "output_type": "stream",
     "text": [
      "[0.00635375 0.00658653 0.00635164 0.00653247 0.00653885 0.00667685\n",
      " 0.00653451 0.00669036 0.00668883 0.00655163 0.00654651 0.00640986\n",
      " 0.0065469  0.00656443 0.00654321 0.00668972 0.00655308 0.00641503\n",
      " 0.00654407 0.00668684 0.00682798 0.00668654 0.0065447  0.00640341\n",
      " 0.00669772 0.00654612 0.00654379 0.00641259 0.00654444 0.00655661\n",
      " 0.00641818 0.00642038 0.0064171  0.00641886 0.00656792 0.00658355\n",
      " 0.0068833  0.00649    0.00653148 0.00673245 0.00671202 0.00686368\n",
      " 0.00724172 0.00753513 0.00756079 0.00771295 0.00783713 0.0080029\n",
      " 0.00824525 0.00822636 0.00873019 0.00929604 0.00961529 0.01044137\n",
      " 0.01140772 0.01283404 0.01477094 0.01761398 0.02344434 0.03961773\n",
      " 0.06692056 0.19254603 0.5653184  0.84660107 0.89587221 0.88493698\n",
      " 0.96488275 0.97493854 0.90074891 0.90958799 0.89991684 0.90321395\n",
      " 0.87980585 0.92429087 0.79554118 0.87131136 0.81710835 0.91504596\n",
      " 0.96237114 0.96957395 0.90558473 0.94325586 0.95893392 0.85660669\n",
      " 0.75758287 0.84782849 0.85471876 0.82933981 0.95186602 0.96668252\n",
      " 0.92370306 0.96019779 0.84523479 0.86434329 0.9436921  0.90899954\n",
      " 0.85134713 0.88167397 0.85509333 0.85353178 0.92222617 0.96001243\n",
      " 0.96805109 0.96711351 0.96646895 0.90752017 0.89195241 0.95311787\n",
      " 0.91657838 0.84422778 0.77306853 0.91361992 0.95467997 0.96749038\n",
      " 0.96838757 0.89017597 0.88413641 0.95143449 0.76651509 0.83220166\n",
      " 0.81621881 0.84600635 0.88124977 0.8745422  0.940999   0.90898226\n",
      " 0.95014195 0.90235295 0.82367419 0.8527727  0.79340003 0.79829911\n",
      " 0.84924022 0.93133118 0.91009626 0.92754369 0.96135094 0.95390201\n",
      " 0.88592822 0.88021881 0.88014192 0.94672495 0.89546834 0.82885881\n",
      " 0.88987697 0.77277473 0.81050907 0.92833464 0.9654302  0.96113987\n",
      " 0.89997029 0.84645614 0.90605612 0.9629491  0.93662067 0.94981443\n",
      " 0.9025479  0.92931949 0.95915394 0.866894   0.94601248 0.91149357\n",
      " 0.948438   0.88746333 0.88949599 0.96382358 0.86098533 0.82687802\n",
      " 0.92313218 0.90598361 0.90720012 0.79245288 0.8405242  0.88064889\n",
      " 0.93754879 0.9644014  0.97201479 0.97076339 0.89623707 0.93212607\n",
      " 0.97187422 0.8383523  0.82838872 0.90380041 0.94102826 0.9567717\n",
      " 0.95645643 0.89881806 0.93387831 0.95749752 0.96060445 0.9541314\n",
      " 0.96110163 0.9477037  0.82909255 0.8677324  0.85775563 0.86889825\n",
      " 0.95306173]\n"
     ]
    }
   ],
   "source": [
    "print(vector_promedio)"
   ]
  },
  {
   "cell_type": "code",
   "execution_count": 54,
   "metadata": {},
   "outputs": [
    {
     "data": {
      "text/plain": [
       "(199,)"
      ]
     },
     "execution_count": 54,
     "metadata": {},
     "output_type": "execute_result"
    }
   ],
   "source": [
    "vector_promedio.shape"
   ]
  },
  {
   "cell_type": "code",
   "execution_count": 84,
   "metadata": {},
   "outputs": [
    {
     "name": "stdout",
     "output_type": "stream",
     "text": [
      "['A', 'A(1)x', 'A(2)x', 'A(4)x', 'Ax', 'x']\n",
      "/home/yan/datos_redes_tesis_doctorado/Con ITI/2-2(2)-2(1)-1 parcialmente/datos_filtrados_pruebas_A/A\n",
      "['red-1', 'red-2', 'red-3', 'red-4', 'red-5', 'red-6', 'red-7', 'red-8', 'red-9', 'red-10']\n",
      "/home/yan/datos_redes_tesis_doctorado/Con ITI/2-2(2)-2(1)-1 parcialmente/datos_filtrados_pruebas_A/A(1)x\n",
      "['red-1', 'red-2', 'red-3', 'red-4', 'red-5', 'red-6', 'red-7', 'red-8', 'red-9', 'red-10']\n",
      "/home/yan/datos_redes_tesis_doctorado/Con ITI/2-2(2)-2(1)-1 parcialmente/datos_filtrados_pruebas_A/A(2)x\n",
      "['red-1', 'red-2', 'red-3', 'red-4', 'red-5', 'red-6', 'red-7', 'red-8', 'red-9', 'red-10']\n",
      "/home/yan/datos_redes_tesis_doctorado/Con ITI/2-2(2)-2(1)-1 parcialmente/datos_filtrados_pruebas_A/A(4)x\n",
      "['red-1', 'red-2', 'red-3', 'red-4', 'red-5', 'red-6', 'red-7', 'red-8', 'red-9', 'red-10']\n",
      "/home/yan/datos_redes_tesis_doctorado/Con ITI/2-2(2)-2(1)-1 parcialmente/datos_filtrados_pruebas_A/Ax\n",
      "['red-1', 'red-2', 'red-3', 'red-4', 'red-5', 'red-6', 'red-7', 'red-8', 'red-9', 'red-10']\n",
      "/home/yan/datos_redes_tesis_doctorado/Con ITI/2-2(2)-2(1)-1 parcialmente/datos_filtrados_pruebas_A/x\n",
      "['red-1', 'red-2', 'red-3', 'red-4', 'red-5', 'red-6', 'red-7', 'red-8', 'red-9', 'red-10']\n"
     ]
    }
   ],
   "source": [
    "ubicacion_original = \"/home/yan/datos_redes_tesis_doctorado/Con ITI/2-2(2)-2(1)-1 parcialmente/datos_filtrados_pruebas_A/\"\n",
    "archivo_promedios = ubicacion_original + 'PROMEDIOS'\n",
    "archivo_promedios_total = ubicacion_original + 'PROMEDIOS_total'\n",
    "archivo_error = ubicacion_original + 'ERROR'\n",
    "matriz = np.zeros((10,19))\n",
    "matriz_total = np.zeros((6,19))\n",
    "i = 0\n",
    "j = 0\n",
    "\n",
    "\n",
    "def sorted_aphanumeric(contenido):\n",
    "    convert = lambda text: int(text) if text.isdigit() else text.lower()\n",
    "    alphanum_key = lambda key: [ convert(c) for c in re.split('([0-9]+)', key) ] \n",
    "    return sorted(contenido, key=alphanum_key)\n",
    "\n",
    "\n",
    "carpetas = sorted_aphanumeric(os.listdir(ubicacion_original))\n",
    "print(carpetas)\n",
    "\n",
    "for carpeta in carpetas:\n",
    "    ruta_carpetas = ubicacion_original + carpeta\n",
    "    print(ruta_carpetas)\n",
    "    \n",
    "    archivos = sorted_aphanumeric(os.listdir(ruta_carpetas))\n",
    "    print(archivos)\n",
    "    \n",
    "    for archivo in archivos:\n",
    "        ruta_archivo = ruta_carpetas + '/' + archivo\n",
    "        datos = np.loadtxt(ruta_archivo)\n",
    "        #datos = pd.read_csv(ruta_archivo, sep = ': ', engine='python', keep_default_na=False,\n",
    "         #       na_values=[' '])\n",
    "        \n",
    "        matriz[i][:] = datos\n",
    "        i += 1\n",
    "        \n",
    "    \n",
    "    vector_promedio = np.mean(matriz, axis=0)\n",
    "    vector_error = stats.sem(matriz, axis=0, ddof=0)\n",
    "        \n",
    "    np.savetxt(archivo_promedios + '_' + carpeta + '.txt', vector_promedio, fmt=\"%s\")\n",
    "    np.savetxt(archivo_error + '_' + carpeta + '.txt', vector_error, fmt=\"%s\")\n",
    "    i = 0\n",
    "    \n",
    "    matriz_total[j][:] = vector_promedio\n",
    "    j +=1\n",
    "\n",
    "matriz_total.T\n",
    "np.savetxt(archivo_promedios_total + '_' + '.txt', matriz_total.T, fmt=\"%s\")    "
   ]
  },
  {
   "cell_type": "code",
   "execution_count": 85,
   "metadata": {},
   "outputs": [
    {
     "name": "stdout",
     "output_type": "stream",
     "text": [
      "['A', 'A(1)x', 'A(2)x', 'A(4)x', 'Ax', 'x']\n",
      "/home/yan/datos_redes_tesis_doctorado/Con ITI/2-2(2)-2(1)-1 parcialmente/datos_filtrados_pruebas_x/A\n",
      "['red-1', 'red-2', 'red-3', 'red-4', 'red-5', 'red-6', 'red-7', 'red-8', 'red-9', 'red-10']\n",
      "/home/yan/datos_redes_tesis_doctorado/Con ITI/2-2(2)-2(1)-1 parcialmente/datos_filtrados_pruebas_x/A(1)x\n",
      "['red-1', 'red-2', 'red-3', 'red-4', 'red-5', 'red-6', 'red-7', 'red-8', 'red-9', 'red-10']\n",
      "/home/yan/datos_redes_tesis_doctorado/Con ITI/2-2(2)-2(1)-1 parcialmente/datos_filtrados_pruebas_x/A(2)x\n",
      "['red-1', 'red-2', 'red-3', 'red-4', 'red-5', 'red-6', 'red-7', 'red-8', 'red-9', 'red-10']\n",
      "/home/yan/datos_redes_tesis_doctorado/Con ITI/2-2(2)-2(1)-1 parcialmente/datos_filtrados_pruebas_x/A(4)x\n",
      "['red-1', 'red-2', 'red-3', 'red-4', 'red-5', 'red-6', 'red-7', 'red-8', 'red-9', 'red-10']\n",
      "/home/yan/datos_redes_tesis_doctorado/Con ITI/2-2(2)-2(1)-1 parcialmente/datos_filtrados_pruebas_x/Ax\n",
      "['red-1', 'red-2', 'red-3', 'red-4', 'red-5', 'red-6', 'red-7', 'red-8', 'red-9', 'red-10']\n",
      "/home/yan/datos_redes_tesis_doctorado/Con ITI/2-2(2)-2(1)-1 parcialmente/datos_filtrados_pruebas_x/x\n",
      "['red-1', 'red-2', 'red-3', 'red-4', 'red-5', 'red-6', 'red-7', 'red-8', 'red-9', 'red-10']\n"
     ]
    }
   ],
   "source": [
    "ubicacion_original = \"/home/yan/datos_redes_tesis_doctorado/Con ITI/2-2(2)-2(1)-1 parcialmente/datos_filtrados_pruebas_x/\"\n",
    "archivo_promedios = ubicacion_original + 'PROMEDIOS'\n",
    "archivo_promedios_total = ubicacion_original + 'PROMEDIOS_total'\n",
    "archivo_error = ubicacion_original + 'ERROR'\n",
    "matriz = np.zeros((10,19))\n",
    "matriz_total = np.zeros((6,19))\n",
    "i = 0\n",
    "j = 0\n",
    "\n",
    "\n",
    "def sorted_aphanumeric(contenido):\n",
    "    convert = lambda text: int(text) if text.isdigit() else text.lower()\n",
    "    alphanum_key = lambda key: [ convert(c) for c in re.split('([0-9]+)', key) ] \n",
    "    return sorted(contenido, key=alphanum_key)\n",
    "\n",
    "\n",
    "carpetas = sorted_aphanumeric(os.listdir(ubicacion_original))\n",
    "print(carpetas)\n",
    "\n",
    "for carpeta in carpetas:\n",
    "    ruta_carpetas = ubicacion_original + carpeta\n",
    "    print(ruta_carpetas)\n",
    "    \n",
    "    archivos = sorted_aphanumeric(os.listdir(ruta_carpetas))\n",
    "    print(archivos)\n",
    "    \n",
    "    for archivo in archivos:\n",
    "        ruta_archivo = ruta_carpetas + '/' + archivo\n",
    "        datos = np.loadtxt(ruta_archivo)\n",
    "        #datos = pd.read_csv(ruta_archivo, sep = ': ', engine='python', keep_default_na=False,\n",
    "         #       na_values=[' '])\n",
    "        \n",
    "        matriz[i][:] = datos\n",
    "        i += 1\n",
    "        \n",
    "    \n",
    "    vector_promedio = np.mean(matriz, axis=0)\n",
    "    vector_error = stats.sem(matriz, axis=0, ddof=0)\n",
    "        \n",
    "    np.savetxt(archivo_promedios + '_' + carpeta + '.txt', vector_promedio, fmt=\"%s\")\n",
    "    np.savetxt(archivo_error + '_' + carpeta + '.txt', vector_error, fmt=\"%s\")\n",
    "    i = 0\n",
    "    \n",
    "    matriz_total[j][:] = vector_promedio\n",
    "    j +=1\n",
    "\n",
    "matriz_total.T\n",
    "np.savetxt(archivo_promedios_total + '_' + '.txt', matriz_total.T, fmt=\"%s\")    "
   ]
  },
  {
   "cell_type": "code",
   "execution_count": null,
   "metadata": {},
   "outputs": [],
   "source": []
  }
 ],
 "metadata": {
  "kernelspec": {
   "display_name": "Python 3",
   "language": "python",
   "name": "python3"
  },
  "language_info": {
   "codemirror_mode": {
    "name": "ipython",
    "version": 3
   },
   "file_extension": ".py",
   "mimetype": "text/x-python",
   "name": "python",
   "nbconvert_exporter": "python",
   "pygments_lexer": "ipython3",
   "version": "3.8.3"
  }
 },
 "nbformat": 4,
 "nbformat_minor": 4
}
